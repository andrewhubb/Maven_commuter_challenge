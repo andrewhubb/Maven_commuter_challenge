{
 "cells": [
  {
   "cell_type": "code",
   "execution_count": null,
   "id": "346ab17f-0909-415b-b7f0-e642b83483c7",
   "metadata": {},
   "outputs": [],
   "source": [
    "import pandas as pd\n",
    "import numpy as np\n",
    "import seaborn as sns\n",
    "import matplotlib.pyplot as plt\n",
    "import matplotlib.ticker as mticker\n",
    "from dash import Dash, dcc, html, dash_table\n",
    "import dash_bootstrap_components as dbc\n",
    "from dash.dependencies import Output, Input\n",
    "from dash.exceptions import PreventUpdate\n",
    "from dash_bootstrap_templates import load_figure_template\n",
    "import dash_dangerously_set_inner_html\n",
    "import plotly.express as px\n",
    "import plotly.graph_objects as go"
   ]
  },
  {
   "cell_type": "code",
   "execution_count": null,
   "id": "39db2636-8dbe-4560-8619-3b511e6ab359",
   "metadata": {},
   "outputs": [],
   "source": [
    "mta_data = pd.read_csv('./data/MTA_Daily_Ridership.csv',parse_dates=['Date'])"
   ]
  },
  {
   "cell_type": "code",
   "execution_count": null,
   "id": "0f799c9f-b7a1-4a35-ab34-9cce5f80b7b7",
   "metadata": {},
   "outputs": [],
   "source": [
    "mta_data = mta_data.rename(columns={\n",
    "            'Subways: Total Estimated Ridership' : 'Subways',\n",
    "            'Subways: % of Comparable Pre-Pandemic Day' : 'Subways: % of Pre-Pandemic',\n",
    "            'Buses: Total Estimated Ridership' : 'Buses',\n",
    "            'Buses: % of Comparable Pre-Pandemic Day' : 'Buses: % of Pre-Pandemic',\n",
    "            'LIRR: Total Estimated Ridership' : 'LIRR',\n",
    "            'LIRR: % of Comparable Pre-Pandemic Day' : 'LIRR : % of Pre-Pandemic',\n",
    "            'Metro-North: Total Estimated Ridership' : 'Metro-North',\n",
    "            'Metro-North: % of Comparable Pre-Pandemic Day' : 'Metro-North: % of Pre-Pandemic',\n",
    "            'Access-A-Ride: Total Scheduled Trips' : 'Access-A-Ride',\n",
    "            'Access-A-Ride: % of Comparable Pre-Pandemic Day' : 'Access-A-Ride: % of Pre-Pandemic',\n",
    "            'Bridges and Tunnels: Total Traffic' : 'Bridges and Tunnels',\n",
    "            'Bridges and Tunnels: % of Comparable Pre-Pandemic Day' : 'Bridges and Tunnels: % of Pre-Pandemic',\n",
    "            'Staten Island Railway: Total Estimated Ridership' : 'Staten Island Railway',\n",
    "            'Staten Island Railway: % of Comparable Pre-Pandemic Day' : 'Staten Island Railway: % of Pre-Pandemic'\n",
    "            },\n",
    "            )"
   ]
  },
  {
   "cell_type": "code",
   "execution_count": null,
   "id": "9254c647-85b5-4957-854a-156364fc4126",
   "metadata": {},
   "outputs": [],
   "source": [
    "mta_data_thousands = mta_data.copy()\n",
    "columns_to_divide = [\n",
    "    'Subways', \n",
    "    'Buses', \n",
    "    'LIRR', \n",
    "    'Metro-North',\n",
    "    'Access-A-Ride',\n",
    "    'Bridges and Tunnels',\n",
    "    'Staten Island Railway'\n",
    "]\n",
    "\n",
    "# Perform the division and update only those columns\n",
    "mta_data_thousands[columns_to_divide] = mta_data[columns_to_divide] / 1000"
   ]
  },
  {
   "cell_type": "markdown",
   "id": "15928816-76e7-406d-a828-5dc1421092f2",
   "metadata": {},
   "source": [
    "Here we create different datasets for different granualarities of date, daily is too low.\n",
    "This will eventually be removed as I can change the granualarity dynamically depending on the user selection. \n",
    "So we only have 1 data frame instead of 4 this makes it more memory efficient"
   ]
  },
  {
   "cell_type": "code",
   "execution_count": null,
   "id": "c47960df-cc25-4618-ae77-e585068e06f9",
   "metadata": {},
   "outputs": [],
   "source": [
    "monthly_data = mta_data_thousands.resample('ME', on='Date').mean() # 'ME' for monthly (ME = Month End)\n",
    "monthly_data.reset_index(inplace=True)"
   ]
  },
  {
   "cell_type": "code",
   "execution_count": null,
   "id": "28dd94d7-21c8-4d52-81f8-497bfa845454",
   "metadata": {},
   "outputs": [],
   "source": [
    "quarterly_data = mta_data_thousands.resample('QE', on='Date').mean()  # 'QE' for quarterly (QE = Quarter End)\n",
    "quarterly_data.reset_index(inplace=True)"
   ]
  },
  {
   "cell_type": "code",
   "execution_count": null,
   "id": "21db94c9-23b6-4f43-8429-c5a60439216e",
   "metadata": {},
   "outputs": [],
   "source": [
    "weekly_data = mta_data_thousands.resample('W', on='Date').mean()  # 'W' for quarterly\n",
    "weekly_data.reset_index(inplace=True)"
   ]
  },
  {
   "cell_type": "code",
   "execution_count": null,
   "id": "a11c7261-e7a8-40fe-bc47-f22bd726f2e5",
   "metadata": {},
   "outputs": [],
   "source": [
    "annual_data = mta_data_thousands.resample('YE', on='Date').mean()  # 'YE' for annual (YE = Year End)\n",
    "annual_data.reset_index(inplace=True)\n",
    "annual_data['Year'] = annual_data['Date'].dt.year.astype(str) # Convert to string for better looking axis labels"
   ]
  },
  {
   "cell_type": "markdown",
   "id": "c8a24156-cf10-43ec-8278-3e9d1687718a",
   "metadata": {},
   "source": [
    "The following is The code for the Dash app I will keep it in one cell"
   ]
  },
  {
   "cell_type": "code",
   "execution_count": null,
   "id": "a3efeb45-d525-4677-b75a-633cdb2ab527",
   "metadata": {},
   "outputs": [],
   "source": [
    "dbc_css = \"https://cdn.jsdelivr.net/gh/AnnMarieW/dash-bootstrap-templates/dbc.min.css\"\n",
    "\n",
    "app = Dash(\n",
    "    __name__, external_stylesheets=[dbc.themes.PULSE, dbc_css]\n",
    ") \n",
    "\n",
    "server = app.server \n",
    "\n",
    "app.layout = dbc.Container(\n",
    "    children=[\n",
    "        dbc.Row(\n",
    "            [\n",
    "                dbc.Col(\n",
    "                    [\n",
    "                        html.H2(\n",
    "                            id=\"report_title\",\n",
    "                            className=\"bg-primary text-white p-2 mb-2 text-center\",\n",
    "                        )\n",
    "                    ]\n",
    "                )\n",
    "            ]\n",
    "        ),\n",
    "        dbc.Row(\n",
    "            [\n",
    "                dbc.Col(\n",
    "                    [\n",
    "                        dbc.Card(\n",
    "                            [\n",
    "                                "
   ]
  }
 ],
 "metadata": {
  "kernelspec": {
   "display_name": "Python 3 (ipykernel)",
   "language": "python",
   "name": "python3"
  },
  "language_info": {
   "codemirror_mode": {
    "name": "ipython",
    "version": 3
   },
   "file_extension": ".py",
   "mimetype": "text/x-python",
   "name": "python",
   "nbconvert_exporter": "python",
   "pygments_lexer": "ipython3",
   "version": "3.12.3"
  }
 },
 "nbformat": 4,
 "nbformat_minor": 5
}
